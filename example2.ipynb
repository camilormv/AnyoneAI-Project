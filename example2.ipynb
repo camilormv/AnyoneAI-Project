{
 "cells": [
  {
   "cell_type": "code",
   "execution_count": 2,
   "metadata": {},
   "outputs": [
    {
     "name": "stderr",
     "output_type": "stream",
     "text": [
      "c:\\Users\\emava\\AppData\\Local\\Programs\\Python\\Python313\\Lib\\site-packages\\lux\\executor\\PandasExecutor.py:567: UserWarning:Could not infer format, so each element will be parsed individually, falling back to `dateutil`. To ensure parsing is consistent and as-expected, please specify a format.\n",
      "c:\\Users\\emava\\AppData\\Local\\Programs\\Python\\Python313\\Lib\\site-packages\\lux\\executor\\PandasExecutor.py:567: UserWarning:Could not infer format, so each element will be parsed individually, falling back to `dateutil`. To ensure parsing is consistent and as-expected, please specify a format.\n",
      "c:\\Users\\emava\\AppData\\Local\\Programs\\Python\\Python313\\Lib\\site-packages\\lux\\executor\\PandasExecutor.py:548: UserWarning:Could not infer format, so each element will be parsed individually, falling back to `dateutil`. To ensure parsing is consistent and as-expected, please specify a format.\n",
      "c:\\Users\\emava\\AppData\\Local\\Programs\\Python\\Python313\\Lib\\site-packages\\lux\\executor\\PandasExecutor.py:448: UserWarning:\n",
      "Lux detects that the attribute 'Date' may be temporal.\n",
      "To display visualizations for these attributes accurately, please convert temporal attributes to Datetime objects.\n",
      "For example, you can convert a Year attribute (e.g., 1998, 1971, 1982) using pd.to_datetime by specifying the `format` as '%Y'.\n",
      "\n",
      "Here is a starter template that you can use for converting the temporal fields:\n",
      "\tdf['Date'] = pd.to_datetime(df['Date'], format='<replace-with-datetime-format>')\n",
      "\n",
      "See more at: https://pandas.pydata.org/pandas-docs/stable/reference/api/pandas.to_datetime.html\n",
      "If Date is not a temporal attribute, please use override Lux's automatically detected type:\n",
      "\tdf.set_data_type({'Date':'quantitative'})\n",
      "c:\\Users\\emava\\AppData\\Local\\Programs\\Python\\Python313\\Lib\\site-packages\\lux\\core\\groupby.py:29: FutureWarning:The default of observed=False is deprecated and will be changed to True in a future version of pandas. Pass observed=False to retain current behavior or observed=True to adopt the future default and silence this warning.\n",
      "c:\\Users\\emava\\AppData\\Local\\Programs\\Python\\Python313\\Lib\\site-packages\\lux\\core\\groupby.py:29: FutureWarning:The default of observed=False is deprecated and will be changed to True in a future version of pandas. Pass observed=False to retain current behavior or observed=True to adopt the future default and silence this warning.\n",
      "c:\\Users\\emava\\AppData\\Local\\Programs\\Python\\Python313\\Lib\\site-packages\\lux\\core\\groupby.py:29: FutureWarning:The default of observed=False is deprecated and will be changed to True in a future version of pandas. Pass observed=False to retain current behavior or observed=True to adopt the future default and silence this warning.\n",
      "c:\\Users\\emava\\AppData\\Local\\Programs\\Python\\Python313\\Lib\\site-packages\\lux\\core\\groupby.py:29: FutureWarning:The default of observed=False is deprecated and will be changed to True in a future version of pandas. Pass observed=False to retain current behavior or observed=True to adopt the future default and silence this warning.\n",
      "c:\\Users\\emava\\AppData\\Local\\Programs\\Python\\Python313\\Lib\\site-packages\\lux\\core\\groupby.py:29: FutureWarning:The default of observed=False is deprecated and will be changed to True in a future version of pandas. Pass observed=False to retain current behavior or observed=True to adopt the future default and silence this warning.\n",
      "c:\\Users\\emava\\AppData\\Local\\Programs\\Python\\Python313\\Lib\\site-packages\\lux\\core\\groupby.py:29: FutureWarning:The default of observed=False is deprecated and will be changed to True in a future version of pandas. Pass observed=False to retain current behavior or observed=True to adopt the future default and silence this warning.\n",
      "c:\\Users\\emava\\AppData\\Local\\Programs\\Python\\Python313\\Lib\\site-packages\\lux\\core\\groupby.py:29: FutureWarning:The default of observed=False is deprecated and will be changed to True in a future version of pandas. Pass observed=False to retain current behavior or observed=True to adopt the future default and silence this warning.\n",
      "c:\\Users\\emava\\AppData\\Local\\Programs\\Python\\Python313\\Lib\\site-packages\\lux\\core\\groupby.py:29: FutureWarning:The default of observed=False is deprecated and will be changed to True in a future version of pandas. Pass observed=False to retain current behavior or observed=True to adopt the future default and silence this warning.\n",
      "c:\\Users\\emava\\AppData\\Local\\Programs\\Python\\Python313\\Lib\\site-packages\\lux\\core\\groupby.py:29: FutureWarning:The default of observed=False is deprecated and will be changed to True in a future version of pandas. Pass observed=False to retain current behavior or observed=True to adopt the future default and silence this warning.\n",
      "c:\\Users\\emava\\AppData\\Local\\Programs\\Python\\Python313\\Lib\\site-packages\\lux\\core\\groupby.py:29: FutureWarning:The default of observed=False is deprecated and will be changed to True in a future version of pandas. Pass observed=False to retain current behavior or observed=True to adopt the future default and silence this warning.\n",
      "c:\\Users\\emava\\AppData\\Local\\Programs\\Python\\Python313\\Lib\\site-packages\\lux\\core\\groupby.py:29: FutureWarning:The default of observed=False is deprecated and will be changed to True in a future version of pandas. Pass observed=False to retain current behavior or observed=True to adopt the future default and silence this warning.\n",
      "c:\\Users\\emava\\AppData\\Local\\Programs\\Python\\Python313\\Lib\\site-packages\\lux\\core\\groupby.py:29: FutureWarning:The default of observed=False is deprecated and will be changed to True in a future version of pandas. Pass observed=False to retain current behavior or observed=True to adopt the future default and silence this warning.\n"
     ]
    },
    {
     "data": {
      "application/vnd.jupyter.widget-view+json": {
       "model_id": "9219dbc7038b4ff8972faf3b2b5fa4ee",
       "version_major": 2,
       "version_minor": 0
      },
      "text/plain": [
       "Button(description='Toggle Pandas/Lux', layout=Layout(top='5px', width='140px'), style=ButtonStyle())"
      ]
     },
     "metadata": {},
     "output_type": "display_data"
    },
    {
     "data": {
      "application/vnd.jupyter.widget-view+json": {
       "model_id": "02051bdd50df42bd97e17c7096086356",
       "version_major": 2,
       "version_minor": 0
      },
      "text/plain": [
       "Output()"
      ]
     },
     "metadata": {},
     "output_type": "display_data"
    }
   ],
   "source": [
    "import pandas as pd\n",
    "import lux\n",
    "\n",
    "#Load your dataset\n",
    "df = pd.read_csv('orders.csv')\n",
    "\n",
    "#Optionally, you can set an intent for visualization (for example, exploring a specific column)\n",
    "#df.intent = [\"OrderDate\", \"Sales\"]\n",
    "\n",
    "#Displaying the dataframe in a notebook cell automatically triggers recommended visualizations\n",
    "df\n",
    "#Note: When running in a standard Python script (outside of Jupyter), you might not see the interactive recommendations. Lux works best in a Jupyter environment."
   ]
  }
 ],
 "metadata": {
  "kernelspec": {
   "display_name": "Python 3",
   "language": "python",
   "name": "python3"
  },
  "language_info": {
   "codemirror_mode": {
    "name": "ipython",
    "version": 3
   },
   "file_extension": ".py",
   "mimetype": "text/x-python",
   "name": "python",
   "nbconvert_exporter": "python",
   "pygments_lexer": "ipython3",
   "version": "3.13.1"
  }
 },
 "nbformat": 4,
 "nbformat_minor": 2
}
